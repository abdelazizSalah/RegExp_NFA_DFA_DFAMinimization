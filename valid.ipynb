{
 "cells": [
  {
   "cell_type": "code",
   "execution_count": 13,
   "metadata": {},
   "outputs": [],
   "source": [
    "special_char = {char: 1 for char in ['+', '|', '?', '*','-']}\n",
    "alphanumeric_char = {char: 1 for char in 'abcdefghijklmnopqrstuvwxyzABCDEFGHIJKLMNOPQRSTUVWXYZ0123456789.'}\n",
    "paranteses = {char: 1 for char in ['(', ')', '[', ']']}\n",
    "\n",
    "DEBUG = True"
   ]
  },
  {
   "cell_type": "code",
   "execution_count": 14,
   "metadata": {},
   "outputs": [],
   "source": [
    "def not_empty(expression): \n",
    "    return len(expression) != 0"
   ]
  },
  {
   "cell_type": "code",
   "execution_count": 15,
   "metadata": {},
   "outputs": [
    {
     "name": "stdout",
     "output_type": "stream",
     "text": [
      "True\n",
      "False\n",
      "True\n",
      "False\n",
      "False\n"
     ]
    }
   ],
   "source": [
    "def valid_starting_char(expression):\n",
    "    return expression[0] in paranteses or expression[0] in alphanumeric_char\n",
    "if DEBUG:\n",
    "    print(valid_starting_char('a-asc'))\n",
    "    print(valid_starting_char('-asc'))\n",
    "    print(valid_starting_char('[asc'))\n",
    "    print(valid_starting_char('?asc'))\n",
    "    print(valid_starting_char('_asc'))\n",
    "    # print(valid_starting_char(''))"
   ]
  },
  {
   "cell_type": "code",
   "execution_count": 16,
   "metadata": {},
   "outputs": [
    {
     "name": "stdout",
     "output_type": "stream",
     "text": [
      "True\n",
      "False\n",
      "False\n",
      "False\n",
      "True\n",
      "True\n",
      "True\n",
      "True\n",
      "True\n",
      "True\n"
     ]
    }
   ],
   "source": [
    "def no_sequence_of_special_char(expression):\n",
    "    # [[]] handeled in valid parantheses\n",
    "    # (()) allowed\n",
    "    valid=False\n",
    "    for char in expression:\n",
    "        if char in special_char :\n",
    "            if valid:\n",
    "                return False\n",
    "            valid = True\n",
    "        else:    \n",
    "            valid = False\n",
    "    return True\n",
    "\n",
    "if DEBUG:\n",
    "    print(no_sequence_of_special_char(''))\n",
    "    print(no_sequence_of_special_char('--'))\n",
    "    print(no_sequence_of_special_char('?*'))\n",
    "    print(no_sequence_of_special_char('+*'))\n",
    "    print(no_sequence_of_special_char('.*'))\n",
    "    print(no_sequence_of_special_char('a*'))\n",
    "    print(no_sequence_of_special_char('*a'))\n",
    "    print(no_sequence_of_special_char('a+a+AA+aA+a'))\n",
    "    print(no_sequence_of_special_char('+a+a+AA+aA+a'))\n",
    "    print(no_sequence_of_special_char('a-c'))"
   ]
  },
  {
   "cell_type": "code",
   "execution_count": 17,
   "metadata": {},
   "outputs": [
    {
     "name": "stdout",
     "output_type": "stream",
     "text": [
      "False\n",
      "False\n",
      "True\n",
      "True\n",
      "True\n",
      "False\n",
      "False\n",
      "False\n",
      "False\n"
     ]
    }
   ],
   "source": [
    "def no_end_with_dash_or_pip(expression):\n",
    "    if expression[-1] == '-' or expression[-1] == '|':  #new\n",
    "        return False\n",
    "    for i,char in enumerate(expression):\n",
    "        if char == ']' or char == ')':\n",
    "            if expression[i-1] == '-' or expression[i-1] == '|':\n",
    "                return False\n",
    "    return True\n",
    "\n",
    "if DEBUG:\n",
    "    # print(no_end_with_dash_or_pip(''))\n",
    "    print(no_end_with_dash_or_pip('asssacasc-'))\n",
    "    print(no_end_with_dash_or_pip('a|'))\n",
    "    print(no_end_with_dash_or_pip('a'))\n",
    "    print(no_end_with_dash_or_pip('a-b'))\n",
    "    print(no_end_with_dash_or_pip('[a|b]'))\n",
    "    print(no_end_with_dash_or_pip('[a|]'))\n",
    "    print(no_end_with_dash_or_pip('[a-]'))\n",
    "    print(no_end_with_dash_or_pip('(a-)'))\n",
    "    print(no_end_with_dash_or_pip('(a-'))"
   ]
  },
  {
   "cell_type": "code",
   "execution_count": 18,
   "metadata": {},
   "outputs": [
    {
     "name": "stdout",
     "output_type": "stream",
     "text": [
      "True\n",
      "True\n",
      "False\n",
      "True\n",
      "False\n",
      "False\n",
      "False\n",
      "True\n",
      "False\n"
     ]
    }
   ],
   "source": [
    "def no_special_char_in_parantheses(expression):\n",
    "    paranteses=False\n",
    "    for i,char in enumerate(expression):\n",
    "        if char == '[':\n",
    "            paranteses = True\n",
    "        elif char == ']':\n",
    "            paranteses = False\n",
    "        elif paranteses and char in special_char:\n",
    "            return False\n",
    "        \n",
    "        # check () doesn't start with special char    #new\n",
    "        if char == '(':\n",
    "            if(expression[i+1] in special_char):\n",
    "                return False\n",
    "    return True\n",
    "\n",
    "if DEBUG:\n",
    "    print(no_special_char_in_parantheses(''))\n",
    "    print(no_special_char_in_parantheses('a-'))\n",
    "    print(no_special_char_in_parantheses('[a-]')) \n",
    "    print(no_special_char_in_parantheses('[a.]')) \n",
    "    print(no_special_char_in_parantheses('[a*]')) \n",
    "    print(no_special_char_in_parantheses('[+a.]')) \n",
    "    print(no_special_char_in_parantheses('(+a.)')) \n",
    "    print(no_special_char_in_parantheses('[...]')) \n",
    "    print(no_special_char_in_parantheses('[++]')) \n",
    "\n",
    "    "
   ]
  }
 ],
 "metadata": {
  "kernelspec": {
   "display_name": "Python 3",
   "language": "python",
   "name": "python3"
  },
  "language_info": {
   "codemirror_mode": {
    "name": "ipython",
    "version": 3
   },
   "file_extension": ".py",
   "mimetype": "text/x-python",
   "name": "python",
   "nbconvert_exporter": "python",
   "pygments_lexer": "ipython3",
   "version": "3.9.13"
  }
 },
 "nbformat": 4,
 "nbformat_minor": 2
}
